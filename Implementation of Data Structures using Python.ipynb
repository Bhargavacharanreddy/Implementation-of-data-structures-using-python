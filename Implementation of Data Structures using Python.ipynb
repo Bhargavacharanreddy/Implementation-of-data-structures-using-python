{
 "cells": [
  {
   "cell_type": "markdown",
   "id": "56106b94",
   "metadata": {},
   "source": [
    "# Arrays/Lists"
   ]
  },
  {
   "cell_type": "markdown",
   "id": "2e258fff",
   "metadata": {},
   "source": [
    "Lists are used to store multiple items in a single variable."
   ]
  },
  {
   "cell_type": "code",
   "execution_count": 1,
   "id": "add55dfa",
   "metadata": {},
   "outputs": [
    {
     "name": "stdout",
     "output_type": "stream",
     "text": [
      "5\n",
      "Apple\n",
      "Google\n",
      "Meta\n",
      "Alphabet\n",
      "Tesla\n",
      "['Apple', 'Google', 'Meta', 'Alphabet', 'Tesla', 'Microsoft']\n",
      "['Apple', 'Meta', 'Alphabet', 'Tesla', 'Microsoft']\n",
      "['Apple', 'Meta', 'Alphabet', 'Tesla', 'Microsoft']\n",
      "[]\n",
      "['SpaceX']\n",
      "0\n",
      "['SpaceX']\n",
      "['SolarCity', 'SpaceX']\n",
      "[7, 5, 3, 1]\n",
      "[1, 2, 3, 4, 5]\n",
      "1\n"
     ]
    }
   ],
   "source": [
    "# Python lists are similar to Arrays\n",
    "companies  = [\"Apple\", \"Google\", \"Meta\", \"Alphabet\",\"Tesla\"]\n",
    "\n",
    "# Assigning values to the list\n",
    "companies[0] = \"Apple\"\n",
    "companies[1] = \"Google\"\n",
    "companies[2] = \"Meta\"\n",
    "\n",
    "# Accessing the list values\n",
    "company1 = companies[0]\n",
    "\n",
    "\n",
    "# Printing out the length of a list\n",
    "print(len(companies))\n",
    "\n",
    "\n",
    "# looping through a list\n",
    "for x in companies:\n",
    "    print(x)\n",
    "    \n",
    "    \n",
    "# Appending values to an existing list\n",
    "companies.append(\"Microsoft\")\n",
    "print(companies)\n",
    "\n",
    "# removing an item from the list\n",
    "companies.pop(1)\n",
    "print(companies)\n",
    "\n",
    "# copying a list to a new list\n",
    "company=companies.copy()\n",
    "print(company)\n",
    "\n",
    "\n",
    "# emptying out the list\n",
    "company.clear()\n",
    "print(company)\n",
    "\n",
    "# extending a current list with new values\n",
    "company.extend([\"SpaceX\"])\n",
    "print(company)\n",
    "\n",
    "# finding the index of certain list item\n",
    "print(company.index(\"SpaceX\"))\n",
    "\n",
    "# inserting a value into a list at a certain index\n",
    "print(company)\n",
    "company.insert(0,\"SolarCity\")\n",
    "print(company)\n",
    "\n",
    "# reversing the items of a list\n",
    "ranking=[1,3,5,7]\n",
    "ranking.reverse()\n",
    "print(ranking)\n",
    "\n",
    "# sorting a list\n",
    "numbers=[5,4,3,2,1]\n",
    "numbers.sort()\n",
    "print(numbers)\n",
    "\n",
    "# Finding the count value of particular item in a list\n",
    "print(numbers.count(1))\n",
    "\n"
   ]
  },
  {
   "cell_type": "markdown",
   "id": "31d4cca7",
   "metadata": {},
   "source": [
    "# Linked-List"
   ]
  },
  {
   "cell_type": "markdown",
   "id": "ff22b736",
   "metadata": {},
   "source": [
    "A linked list is a linear data structure, in which the elements are not stored at contiguous memory locations. The elements in a linked list are linked using pointers "
   ]
  },
  {
   "cell_type": "code",
   "execution_count": 2,
   "id": "3da03065",
   "metadata": {},
   "outputs": [
    {
     "name": "stdout",
     "output_type": "stream",
     "text": [
      "1\n",
      "2\n",
      "3\n"
     ]
    }
   ],
   "source": [
    "# Python program for creation of linked-list and traversal of a linked list\n",
    " \n",
    "# Here we are creating a Node class\n",
    "class Node:\n",
    " \n",
    "    # Function to initialise the node object , this function is the constructor\n",
    "    def __init__(self, data):\n",
    "        self.data = data  # Assign data\n",
    "        self.next = None  # Initialize next as null\n",
    " \n",
    " \n",
    "# Linked List class contains a Node object\n",
    "class LinkedList:\n",
    " \n",
    "    # Function to initialize head\n",
    "    def __init__(self):\n",
    "        self.head = None\n",
    " \n",
    "    # This function prints contents of linked list\n",
    "    # starting from head\n",
    "    def printList(self):\n",
    "        temp = self.head\n",
    "        while (temp):\n",
    "            print(temp.data)\n",
    "            temp = temp.next\n",
    " \n",
    " \n",
    "# Code execution starts here. This is similar to main function of every programming language\n",
    "if __name__=='__main__':\n",
    " \n",
    "    # Start with the empty list\n",
    "    llist = LinkedList()\n",
    " \n",
    "    llist.head = Node(1)\n",
    "    second = Node(2)\n",
    "    third = Node(3)\n",
    " \n",
    "    llist.head.next = second; # Link first node with second\n",
    "    second.next = third; # Link second node with the third node\n",
    " \n",
    "    llist.printList()"
   ]
  },
  {
   "cell_type": "markdown",
   "id": "4bc9f0b4",
   "metadata": {},
   "source": [
    "# Stacks"
   ]
  },
  {
   "cell_type": "markdown",
   "id": "c332f6ea",
   "metadata": {},
   "source": [
    "A stack is a linear data structure that stores items in a Last-In/First-Out (LIFO) or First-In/Last-Out (FILO) manner. In stack, a new element is added at one end and an element is removed from that end only. The insert and delete operations are often called push and pop."
   ]
  },
  {
   "cell_type": "code",
   "execution_count": 3,
   "id": "89ca1724",
   "metadata": {},
   "outputs": [
    {
     "name": "stdout",
     "output_type": "stream",
     "text": [
      "Initial stack\n",
      "['a', 'b', 'c']\n",
      "\n",
      "Elements popped from stack:\n",
      "c\n",
      "b\n",
      "a\n",
      "\n",
      "Stack after elements are popped:\n",
      "[]\n"
     ]
    }
   ],
   "source": [
    "# Python program to\n",
    "# demonstrate stack implementation\n",
    "# using list\n",
    " \n",
    "stack = []\n",
    " \n",
    "# append() function to push\n",
    "# element in the stack\n",
    "stack.append('a')\n",
    "stack.append('b')\n",
    "stack.append('c')\n",
    " \n",
    "print('Initial stack')\n",
    "print(stack)\n",
    " \n",
    "# pop() function to pop\n",
    "# element from stack in\n",
    "# LIFO order\n",
    "print('\\nElements popped from stack:')\n",
    "print(stack.pop())\n",
    "print(stack.pop())\n",
    "print(stack.pop())\n",
    " \n",
    "print('\\nStack after elements are popped:')\n",
    "print(stack)\n",
    " \n",
    "# uncommenting print(stack.pop())\n",
    "# will cause an IndexError\n",
    "# as the stack is now empty"
   ]
  },
  {
   "cell_type": "code",
   "execution_count": 4,
   "id": "fbb21ef3",
   "metadata": {},
   "outputs": [
    {
     "name": "stdout",
     "output_type": "stream",
     "text": [
      "Initial stack:\n",
      "deque(['a', 'b', 'c'])\n",
      "\n",
      "Elements popped from stack:\n",
      "c\n",
      "b\n",
      "a\n",
      "\n",
      "Stack after elements are popped:\n",
      "deque([])\n"
     ]
    }
   ],
   "source": [
    "# Python program to\n",
    "# demonstrate stack implementation\n",
    "# using collections.deque\n",
    " \n",
    "from collections import deque\n",
    " \n",
    "stack = deque()\n",
    " \n",
    "# append() function to push\n",
    "# element in the stack\n",
    "stack.append('a')\n",
    "stack.append('b')\n",
    "stack.append('c')\n",
    " \n",
    "print('Initial stack:')\n",
    "print(stack)\n",
    " \n",
    "# pop() function to pop\n",
    "# element from stack in\n",
    "# LIFO order\n",
    "print('\\nElements popped from stack:')\n",
    "print(stack.pop())\n",
    "print(stack.pop())\n",
    "print(stack.pop())\n",
    " \n",
    "print('\\nStack after elements are popped:')\n",
    "print(stack)\n",
    " \n",
    "# uncommenting print(stack.pop())\n",
    "# will cause an IndexError\n",
    "# as the stack is now empty"
   ]
  },
  {
   "cell_type": "markdown",
   "id": "e9d00bbc",
   "metadata": {},
   "source": [
    "# Queues"
   ]
  },
  {
   "cell_type": "markdown",
   "id": "f0306b9b",
   "metadata": {},
   "source": [
    "Queue is a linear data structure. It follows First-In-First-Out rule. "
   ]
  },
  {
   "cell_type": "code",
   "execution_count": 5,
   "id": "dfb96898",
   "metadata": {},
   "outputs": [
    {
     "name": "stdout",
     "output_type": "stream",
     "text": [
      "Initial queue\n",
      "['a', 'b', 'c']\n",
      "\n",
      "Elements dequeued from queue\n",
      "a\n",
      "b\n",
      "c\n",
      "\n",
      "Queue after removing elements\n",
      "[]\n"
     ]
    }
   ],
   "source": [
    "# Python program to\n",
    "# demonstrate queue implementation\n",
    "# using list\n",
    " \n",
    "# Initializing a queue\n",
    "queue = []\n",
    " \n",
    "# Adding elements to the queue\n",
    "queue.append('a')\n",
    "queue.append('b')\n",
    "queue.append('c')\n",
    " \n",
    "print(\"Initial queue\")\n",
    "print(queue)\n",
    " \n",
    "# Removing elements from the queue\n",
    "print(\"\\nElements dequeued from queue\")\n",
    "print(queue.pop(0))\n",
    "print(queue.pop(0))\n",
    "print(queue.pop(0))\n",
    " \n",
    "print(\"\\nQueue after removing elements\")\n",
    "print(queue)\n",
    " \n",
    "# Uncommenting print(queue.pop(0))\n",
    "# will raise and IndexError\n",
    "# as the queue is now empty"
   ]
  },
  {
   "cell_type": "code",
   "execution_count": 6,
   "id": "ae2f2fcb",
   "metadata": {},
   "outputs": [
    {
     "name": "stdout",
     "output_type": "stream",
     "text": [
      "Initial queue\n",
      "deque(['a', 'b', 'c'])\n",
      "\n",
      "Elements dequeued from the queue\n",
      "a\n",
      "b\n",
      "c\n",
      "\n",
      "Queue after removing elements\n",
      "deque([])\n"
     ]
    }
   ],
   "source": [
    "# Python program to\n",
    "# demonstrate queue implementation\n",
    "# using collections.dequeue\n",
    " \n",
    "from collections import deque\n",
    " \n",
    "# Initializing a queue\n",
    "q = deque()\n",
    " \n",
    "# Adding elements to a queue\n",
    "q.append('a')\n",
    "q.append('b')\n",
    "q.append('c')\n",
    " \n",
    "print(\"Initial queue\")\n",
    "print(q)\n",
    " \n",
    "# Removing elements from a queue\n",
    "print(\"\\nElements dequeued from the queue\")\n",
    "print(q.popleft())\n",
    "print(q.popleft())\n",
    "print(q.popleft())\n",
    " \n",
    "print(\"\\nQueue after removing elements\")\n",
    "print(q)\n",
    " \n",
    "# Uncommenting q.popleft()\n",
    "# will raise an IndexError\n",
    "# as queue is now empty"
   ]
  },
  {
   "cell_type": "markdown",
   "id": "cc76d4ed",
   "metadata": {},
   "source": [
    "# Trees"
   ]
  },
  {
   "cell_type": "markdown",
   "id": "d5a50615",
   "metadata": {},
   "source": [
    "Trees are hierarchical data structures.Unlike Arrays, Linked Lists, Stack and queues, which are linear data structures."
   ]
  },
  {
   "cell_type": "code",
   "execution_count": 7,
   "id": "13ea26c7",
   "metadata": {},
   "outputs": [
    {
     "data": {
      "text/plain": [
       "'4 becomes left child of 2\\n           1\\n       /             2          3\\n    /   \\\\       /     4    None  None  None\\n  /  None None'"
      ]
     },
     "execution_count": 7,
     "metadata": {},
     "output_type": "execute_result"
    }
   ],
   "source": [
    "\n",
    "# Python program which constructs a binary tree\n",
    " \n",
    "# A class that represents an individual node in a\n",
    "# Binary Tree\n",
    "class Node:\n",
    "    def __init__(self,key):\n",
    "        self.left = None\n",
    "        self.right = None\n",
    "        self.val = key\n",
    " \n",
    " \n",
    "# we are creating a root node\n",
    "root = Node(1)\n",
    "\n",
    "''' following is the tree after above statement\n",
    "        1\n",
    "      /   \\\n",
    "     None  None'''\n",
    " \n",
    "root.left      = Node(2)\n",
    "root.right     = Node(3)\n",
    "   \n",
    "''' 2 and 3 become left and right children of 1\n",
    "           1\n",
    "         /   \\\n",
    "        2      3\n",
    "     /    \\    /  \\\n",
    "   None None None None\n",
    "   '''\n",
    " \n",
    "root.left.left  = Node(4)\n",
    "\n",
    "'''4 becomes left child of 2\n",
    "           1\n",
    "       /       \\\n",
    "      2          3\n",
    "    /   \\       /  \\\n",
    "   4    None  None  None\n",
    "  /  \\\n",
    "None None'''\n"
   ]
  },
  {
   "cell_type": "markdown",
   "id": "55e28551",
   "metadata": {},
   "source": [
    "# Graphs"
   ]
  },
  {
   "cell_type": "markdown",
   "id": "22c2cefc",
   "metadata": {},
   "source": [
    "A Graph is a non-linear data structure consisting of nodes and edges. The nodes are sometimes also referred to as vertices and the edges are lines or arcs that connect any two nodes in the graph. More formally a Graph can be defined as \"A Graph consists of a finite set of vertices(or nodes) and set of Edges which connect a pair of nodes\"."
   ]
  },
  {
   "cell_type": "code",
   "execution_count": 8,
   "id": "f3e5344a",
   "metadata": {},
   "outputs": [
    {
     "name": "stdout",
     "output_type": "stream",
     "text": [
      "Adjacency list of vertex 0\n",
      " head -> 4 -> 1 \n",
      "\n",
      "Adjacency list of vertex 1\n",
      " head -> 4 -> 3 -> 2 -> 0 \n",
      "\n",
      "Adjacency list of vertex 2\n",
      " head -> 3 -> 1 \n",
      "\n",
      "Adjacency list of vertex 3\n",
      " head -> 4 -> 2 -> 1 \n",
      "\n",
      "Adjacency list of vertex 4\n",
      " head -> 3 -> 1 -> 0 \n",
      "\n"
     ]
    }
   ],
   "source": [
    "\n",
    "\"\"\"\n",
    "A Python program to demonstrate the adjacency\n",
    "list representation of the graph\n",
    "\"\"\"\n",
    " \n",
    "# A class to represent the adjacency list of the node\n",
    "class AdjNode:\n",
    "    def __init__(self, data):\n",
    "        self.vertex = data\n",
    "        self.next = None\n",
    " \n",
    " \n",
    "# A class to represent a graph. A graph\n",
    "# is the list of the adjacency lists.\n",
    "# Size of the array will be the no. of the\n",
    "# vertices \"V\"\n",
    "class Graph:\n",
    "    def __init__(self, vertices):\n",
    "        self.V = vertices\n",
    "        self.graph = [None] * self.V\n",
    " \n",
    "    # Function to add an edge in an undirected graph\n",
    "    def add_edge(self, src, dest):\n",
    "        # Adding the node to the source node\n",
    "        node = AdjNode(dest)\n",
    "        node.next = self.graph[src]\n",
    "        self.graph[src] = node\n",
    " \n",
    "        # Adding the source node to the destination as\n",
    "        # it is the undirected graph\n",
    "        node = AdjNode(src)\n",
    "        node.next = self.graph[dest]\n",
    "        self.graph[dest] = node\n",
    " \n",
    "    # Function to print the graph\n",
    "    def print_graph(self):\n",
    "        for i in range(self.V):\n",
    "            print(\"Adjacency list of vertex {}\\n head\".format(i), end=\"\")\n",
    "            temp = self.graph[i]\n",
    "            while temp:\n",
    "                print(\" -> {}\".format(temp.vertex), end=\"\")\n",
    "                temp = temp.next\n",
    "            print(\" \\n\")\n",
    " \n",
    " \n",
    "# Driver program to the above graph class\n",
    "if __name__ == \"__main__\":\n",
    "    V = 5\n",
    "    graph = Graph(V)\n",
    "    graph.add_edge(0, 1)\n",
    "    graph.add_edge(0, 4)\n",
    "    graph.add_edge(1, 2)\n",
    "    graph.add_edge(1, 3)\n",
    "    graph.add_edge(1, 4)\n",
    "    graph.add_edge(2, 3)\n",
    "    graph.add_edge(3, 4)\n",
    " \n",
    "    graph.print_graph()"
   ]
  },
  {
   "cell_type": "markdown",
   "id": "fc5c3e7d",
   "metadata": {},
   "source": [
    "# Tries"
   ]
  },
  {
   "cell_type": "markdown",
   "id": "a7951ba0",
   "metadata": {},
   "source": [
    "Trie data structure is really useful in querying words from list of huge data. They play a major role in information retrieval. It can be used in real-time applications like auto-completing words."
   ]
  },
  {
   "cell_type": "code",
   "execution_count": 16,
   "id": "83ccb98a",
   "metadata": {},
   "outputs": [
    {
     "name": "stdout",
     "output_type": "stream",
     "text": [
      "['he', 'her', 'here', 'hear', 'hello']\n",
      "['her', 'here']\n"
     ]
    }
   ],
   "source": [
    "class TrieNode:\n",
    " \n",
    "    def __init__(self, char):\n",
    " \n",
    "        self.char = char\n",
    " \n",
    "        self.is_end = False\n",
    " \n",
    "        self.children = {}\n",
    "\n",
    "class Trie(object):\n",
    " \n",
    "    def __init__(self):\n",
    " \n",
    "        self.root = TrieNode(\"\")\n",
    "     \n",
    "    def insert(self, word):\n",
    " \n",
    "        node = self.root\n",
    " \n",
    "        for char in word:\n",
    "            if char in node.children:\n",
    "                node = node.children[char]\n",
    "            else:\n",
    " \n",
    "                new_node = TrieNode(char)\n",
    "                node.children[char] = new_node\n",
    "                node = new_node\n",
    "         \n",
    "        node.is_end = True\n",
    "         \n",
    "    def dfs(self, node, pre):\n",
    " \n",
    "        if node.is_end:\n",
    "            self.output.append((pre + node.char))\n",
    "         \n",
    "        for child in node.children.values():\n",
    "            self.dfs(child, pre + node.char)\n",
    "         \n",
    "    def search(self, x):\n",
    "        \n",
    "        node = self.root\n",
    "         \n",
    "        for char in x:\n",
    "            if char in node.children:\n",
    "                node = node.children[char]\n",
    "            else:\n",
    "               \n",
    "                return []\n",
    "         \n",
    "        self.output = []\n",
    "        self.dfs(node, x[:-1])\n",
    " \n",
    "        return self.output\n",
    "\n",
    "#initializing the Trie data structure\n",
    "tr = Trie()\n",
    "\n",
    "# inserting values into Trie data structure\n",
    "tr.insert(\"here\")\n",
    "tr.insert(\"hear\")\n",
    "tr.insert(\"he\")\n",
    "tr.insert(\"hello\")\n",
    "tr.insert(\"how \")\n",
    "tr.insert(\"her\")\n",
    "\n",
    "\n",
    "# Searching for the string 'he' in the trie \n",
    "print(tr.search(\"he\"))\n",
    "\n",
    "# searching for the string 'her' in the trie\n",
    "print(tr.search(\"her\"))"
   ]
  },
  {
   "cell_type": "markdown",
   "id": "467defea",
   "metadata": {},
   "source": [
    "# Hash Table"
   ]
  },
  {
   "cell_type": "markdown",
   "id": "5b8ba9f8",
   "metadata": {},
   "source": [
    "Hash tables are based on the concept of hash, which means using a hash function used to map key and values. Since it is used to map key and value pairs, it is commonly known as a hashmap.\n",
    "The hash table implementation is based on the concept of key and value mapping just like dictionaries in Python. In other words, these data structures are used to map each unique key to its value. When implementing hash tables, we need to make sure that each input key must go through a hash function that will convert its initial data type to an integer value called a hash.\n",
    "\n",
    "Python comes with a built-in hash() function that speeds up the entire hash table implementation process. Here’s how you can implement hash tables using Python:"
   ]
  },
  {
   "cell_type": "code",
   "execution_count": 21,
   "id": "9d4f3ee7",
   "metadata": {},
   "outputs": [
    {
     "name": "stdout",
     "output_type": "stream",
     "text": [
      "[[],\n",
      " [('Canada', 'Ottawa')],\n",
      " [('France', 'Paris'), ('United States', 'Washington D.C.')],\n",
      " [('Italy', 'Rome')]]\n",
      "The capital of Italy is Rome\n"
     ]
    }
   ],
   "source": [
    "import pprint\n",
    "\n",
    "class Hashtable:\n",
    "    def __init__(self, elements):\n",
    "        self.bucket_size = len(elements)\n",
    "        self.buckets = [[] for i in range(self.bucket_size)]\n",
    "        self._assign_buckets(elements)\n",
    "\n",
    "    def _assign_buckets(self, elements):\n",
    "        for key, value in elements:\n",
    "            hashed_value = hash(key)\n",
    "            index = hashed_value % self.bucket_size\n",
    "            self.buckets[index].append((key, value))\n",
    "\n",
    "    def get_value(self, input_key):\n",
    "        hashed_value = hash(input_key)\n",
    "        index = hashed_value % self.bucket_size\n",
    "        bucket = self.buckets[index]\n",
    "        for key, value in bucket:\n",
    "            if key == input_key:\n",
    "                return(value)\n",
    "        return None\n",
    "\n",
    "    def __str__(self):\n",
    "        return pprint.pformat(self.buckets) # here pformat is used to return a printable representation of the object\n",
    "\n",
    "if __name__ == \"__main__\":\n",
    "     capitals = [\n",
    "        ('France', 'Paris'),\n",
    "        ('United States', 'Washington D.C.'),\n",
    "        ('Italy', 'Rome'),\n",
    "        ('Canada', 'Ottawa')\n",
    "    ]\n",
    "hashtable = Hashtable(capitals)\n",
    "print(hashtable)\n",
    "print(f\"The capital of Italy is {hashtable.get_value('Italy')}\")"
   ]
  },
  {
   "cell_type": "markdown",
   "id": "5fc070f6",
   "metadata": {},
   "source": [
    "# Heaps"
   ]
  },
  {
   "cell_type": "markdown",
   "id": "63fb3e4c",
   "metadata": {},
   "source": [
    "A Heap is a special Tree-based data structure in which the tree is a complete binary tree. Generally, Heaps can be of two types:\n",
    "Max-Heap: In a Max-Heap the key present at the root node must be greatest among the keys present at all of it’s children. The same property must be recursively true for all sub-trees in that Binary Tree.\n",
    "Min-Heap: In a Min-Heap the key present at the root node must be minimum among the keys present at all of it’s children. The same property must be recursively true for all sub-trees in that Binary Tree.\n",
    "\n",
    "Priority queues can be efficiently implemented using Binary Heap because it supports insert(), delete() and extractmax(), decreaseKey() operations in O(logn) time."
   ]
  },
  {
   "cell_type": "code",
   "execution_count": 22,
   "id": "bc45a5a3",
   "metadata": {},
   "outputs": [
    {
     "name": "stdout",
     "output_type": "stream",
     "text": [
      "The created heap is : [1, 3, 9, 7, 5]\n",
      "The modified heap after push is : [1, 3, 4, 7, 5, 9]\n",
      "The popped and smallest element is : 1\n"
     ]
    }
   ],
   "source": [
    "# Python code to demonstrate working of \n",
    "# heapify(), heappush() and heappop()\n",
    "  \n",
    "# importing \"heapq\" to implement heap queue\n",
    "import heapq\n",
    "  \n",
    "# initializing list\n",
    "li = [5, 7, 9, 1, 3]\n",
    "  \n",
    "# using heapify to convert list into heap\n",
    "heapq.heapify(li)\n",
    "  \n",
    "# printing created heap\n",
    "print (\"The created heap is : \",end=\"\")\n",
    "print (list(li))\n",
    "  \n",
    "# using heappush() to push elements into heap\n",
    "# pushes 4\n",
    "heapq.heappush(li,4)\n",
    "  \n",
    "# printing modified heap\n",
    "print (\"The modified heap after push is : \",end=\"\")\n",
    "print (list(li))\n",
    "  \n",
    "# using heappop() to pop smallest element\n",
    "print (\"The popped and smallest element is : \",end=\"\")\n",
    "print (heapq.heappop(li))"
   ]
  },
  {
   "cell_type": "markdown",
   "id": "ff36da4d",
   "metadata": {},
   "source": [
    "# Union-Find"
   ]
  },
  {
   "cell_type": "markdown",
   "id": "a1818eac",
   "metadata": {},
   "source": [
    "Union-Find is a data structure that is capable of tracking and merging of disjoint sets.\n",
    "\n",
    "Find: It determines in which subset a particular element is in and returns the representative of that particular set. An item from this set typically acts as a “representative” of the set.\n",
    "\n",
    "Union: It merges two different subsets into a single subset, and the representative of one set becomes representative of another."
   ]
  },
  {
   "cell_type": "code",
   "execution_count": 23,
   "id": "f9be675d",
   "metadata": {},
   "outputs": [
    {
     "name": "stdout",
     "output_type": "stream",
     "text": [
      "item 0 -> component 9\n",
      "item 1 -> component 9\n",
      "item 2 -> component 9\n",
      "item 3 -> component 3\n",
      "item 4 -> component 9\n",
      "item 5 -> component 9\n",
      "item 6 -> component 9\n",
      "item 7 -> component 7\n",
      "item 8 -> component 8\n",
      "item 9 -> component 9\n"
     ]
    }
   ],
   "source": [
    "def find(data, i):\n",
    "    if i != data[i]:\n",
    "        data[i] = find(data, data[i])\n",
    "    return data[i]\n",
    "def union(data, i, j):\n",
    "    pi, pj = find(data, i), find(data, j)\n",
    "    if pi != pj:\n",
    "        data[pi] = pj\n",
    "def connected(data, i, j):\n",
    "    return find(data, i) == find(data, j)\n",
    "\n",
    "n = 10\n",
    "data = [i for i in range(n)]\n",
    "connections = [(0, 1), (1, 2), (0, 9), (5, 6), (6, 4), (5, 9)]\n",
    "\n",
    "# union\n",
    "for i, j in connections:\n",
    "    union(data, i, j)\n",
    "    \n",
    "# find\n",
    "for i in range(n):\n",
    "    print('item', i, '-> component', find(data, i))\n",
    "    "
   ]
  },
  {
   "cell_type": "markdown",
   "id": "1ebe2c7e",
   "metadata": {},
   "source": [
    "# Sources\n",
    "https://www.w3schools.com/python/python_arrays.asp\n",
    "https://www.geeksforgeeks.org/linked-list-set-1-introduction/\n",
    "https://www.geeksforgeeks.org/stack-in-python/\n",
    "https://www.geeksforgeeks.org/binary-tree-set-1-introduction/\n",
    "https://www.askpython.com/python/examples/trie-data-structure\n",
    "https://thepythoncorner.com/posts/2020-08-21-hash-tables-understanding-dictionaries/\n",
    "https://www.geeksforgeeks.org/heap-data-structure/\n",
    "https://www.techiedelight.com/disjoint-set-data-structure-union-find-algorithm/\n",
    "https://www.geeksforgeeks.org\n",
    "https://medium.com/100-days-of-algorithms/day-41-union-find-d0027148376d"
   ]
  }
 ],
 "metadata": {
  "kernelspec": {
   "display_name": "Python 3",
   "language": "python",
   "name": "python3"
  },
  "language_info": {
   "codemirror_mode": {
    "name": "ipython",
    "version": 3
   },
   "file_extension": ".py",
   "mimetype": "text/x-python",
   "name": "python",
   "nbconvert_exporter": "python",
   "pygments_lexer": "ipython3",
   "version": "3.9.6"
  }
 },
 "nbformat": 4,
 "nbformat_minor": 5
}
